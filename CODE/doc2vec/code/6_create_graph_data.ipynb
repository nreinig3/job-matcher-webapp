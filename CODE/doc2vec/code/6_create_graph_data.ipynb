{
 "cells": [
  {
   "cell_type": "code",
   "execution_count": 1,
   "metadata": {},
   "outputs": [],
   "source": [
    "# library\n",
    "import pandas as pd\n",
    "import numpy as np\n",
    "from scipy import sparse\n",
    "from sklearn.metrics.pairwise import cosine_similarity"
   ]
  },
  {
   "cell_type": "code",
   "execution_count": 2,
   "metadata": {},
   "outputs": [],
   "source": [
    "document_embeddings = np.load(\"../local_data/_train_doc_embeddings.npy\")\n",
    "# document_embeddings = document_embeddings[:9000]"
   ]
  },
  {
   "cell_type": "code",
   "execution_count": 3,
   "metadata": {},
   "outputs": [],
   "source": [
    "# Compute cosine similarity between document embeddings (Run time : 15 minutes)\n",
    "similarity_matrix = cosine_similarity(document_embeddings)"
   ]
  },
  {
   "cell_type": "code",
   "execution_count": 24,
   "metadata": {},
   "outputs": [],
   "source": [
    "# helper function to divdie work in pieces:\n",
    "def spliterate(buf, chunk):\n",
    "    for start in range(0, len(buf), chunk):\n",
    "        yield buf[start:start + chunk]"
   ]
  },
  {
   "cell_type": "code",
   "execution_count": 37,
   "metadata": {},
   "outputs": [],
   "source": [
    "# Create sparse matrix in chunks \n",
    "i = 0               # counter\n",
    "threshold = 0.8     # threshold for similarlity value \n",
    "\n",
    "for partition in spliterate(similarity_matrix, 10000):\n",
    "    i += 1\n",
    "    matrix_with_zeros = np.where(partition < threshold, 0, partition)\n",
    "    if i == 0:\n",
    "        similarity_matrix_sparse = sparse.csr_matrix(matrix_with_zeros) \n",
    "        continue\n",
    "    sparse_partition = sparse.csr_matrix(matrix_with_zeros) \n",
    "    similarity_matrix_sparse = sparse.vstack([similarity_matrix_sparse, sparse_partition])\n",
    "\n",
    "print(similarity_matrix_sparse.shape)"
   ]
  },
  {
   "cell_type": "code",
   "execution_count": null,
   "metadata": {},
   "outputs": [
    {
     "name": "stdout",
     "output_type": "stream",
     "text": [
      "(221393, 3)\n"
     ]
    },
    {
     "data": {
      "text/html": [
       "<div>\n",
       "<style scoped>\n",
       "    .dataframe tbody tr th:only-of-type {\n",
       "        vertical-align: middle;\n",
       "    }\n",
       "\n",
       "    .dataframe tbody tr th {\n",
       "        vertical-align: top;\n",
       "    }\n",
       "\n",
       "    .dataframe thead th {\n",
       "        text-align: right;\n",
       "    }\n",
       "</style>\n",
       "<table border=\"1\" class=\"dataframe\">\n",
       "  <thead>\n",
       "    <tr style=\"text-align: right;\">\n",
       "      <th></th>\n",
       "      <th>node_from</th>\n",
       "      <th>node_to</th>\n",
       "      <th>measure</th>\n",
       "    </tr>\n",
       "  </thead>\n",
       "  <tbody>\n",
       "    <tr>\n",
       "      <th>0</th>\n",
       "      <td>0</td>\n",
       "      <td>90000</td>\n",
       "      <td>1.000000</td>\n",
       "    </tr>\n",
       "    <tr>\n",
       "      <th>1</th>\n",
       "      <td>1</td>\n",
       "      <td>90001</td>\n",
       "      <td>1.000000</td>\n",
       "    </tr>\n",
       "    <tr>\n",
       "      <th>2</th>\n",
       "      <td>2</td>\n",
       "      <td>159</td>\n",
       "      <td>0.985550</td>\n",
       "    </tr>\n",
       "    <tr>\n",
       "      <th>3</th>\n",
       "      <td>2</td>\n",
       "      <td>243</td>\n",
       "      <td>0.985159</td>\n",
       "    </tr>\n",
       "    <tr>\n",
       "      <th>4</th>\n",
       "      <td>2</td>\n",
       "      <td>610</td>\n",
       "      <td>0.986762</td>\n",
       "    </tr>\n",
       "  </tbody>\n",
       "</table>\n",
       "</div>"
      ],
      "text/plain": [
       "   node_from  node_to   measure\n",
       "0          0    90000  1.000000\n",
       "1          1    90001  1.000000\n",
       "2          2      159  0.985550\n",
       "3          2      243  0.985159\n",
       "4          2      610  0.986762"
      ]
     },
     "execution_count": 32,
     "metadata": {},
     "output_type": "execute_result"
    }
   ],
   "source": [
    "# Extract nonzero elements, row indices, and column indices\n",
    "nonzero_data = similarity_matrix_sparse.data\n",
    "row_indices, col_indices = similarity_matrix_sparse.nonzero()\n",
    "\n",
    "# Create a DataFrame\n",
    "graph_df_dupe = pd.DataFrame({'node_from': row_indices,\n",
    "                   'node_to': col_indices,\n",
    "                   'measure': nonzero_data})\n",
    "\n",
    "# remove duplicates\n",
    "graph_mask = graph_df_dupe[\"node_from\"] < graph_df_dupe[\"node_to\"]\n",
    "graph_df = graph_df_dupe[graph_mask]\n",
    "\n",
    "# print shape and few \n",
    "print(graph_df.shape)\n",
    "graph_df.head()"
   ]
  },
  {
   "cell_type": "code",
   "execution_count": null,
   "metadata": {},
   "outputs": [],
   "source": [
    "# create csv for graph data\n",
    "graph_df.to_csv('../local_data/_graph_data.csv', index=False)"
   ]
  }
 ],
 "metadata": {
  "kernelspec": {
   "display_name": ".venv",
   "language": "python",
   "name": "python3"
  },
  "language_info": {
   "codemirror_mode": {
    "name": "ipython",
    "version": 3
   },
   "file_extension": ".py",
   "mimetype": "text/x-python",
   "name": "python",
   "nbconvert_exporter": "python",
   "pygments_lexer": "ipython3",
   "version": "3.10.11"
  },
  "orig_nbformat": 4
 },
 "nbformat": 4,
 "nbformat_minor": 2
}
