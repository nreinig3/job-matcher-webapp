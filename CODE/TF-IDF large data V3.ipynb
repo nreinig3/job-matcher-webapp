{
 "cells": [
  {
   "cell_type": "code",
   "execution_count": 1,
   "id": "42b43dcb-fc80-4b3b-80bd-71d289b4b4c7",
   "metadata": {},
   "outputs": [],
   "source": [
    "#Install nltk package\n",
    "#pip install nltk"
   ]
  },
  {
   "cell_type": "code",
   "execution_count": 1,
   "id": "2164c1dd-366a-4c55-b271-632be14dba71",
   "metadata": {},
   "outputs": [],
   "source": [
    "import pandas as pd\n",
    "import numpy as np\n",
    "from sklearn.feature_extraction.text import TfidfVectorizer\n",
    "from sklearn.metrics.pairwise import cosine_similarity\n",
    "from sklearn.model_selection import train_test_split\n",
    "from nltk.corpus import stopwords\n",
    "from nltk.tokenize import word_tokenize\n",
    "from nltk.stem import PorterStemmer\n",
    "import string\n",
    "import re\n",
    "from collections import Counter\n",
    "import nltk\n",
    "from scipy.sparse import csr_matrix\n",
    "import os"
   ]
  },
  {
   "cell_type": "code",
   "execution_count": 2,
   "id": "9fb5619a-6651-4f0a-bc73-014139290a88",
   "metadata": {},
   "outputs": [
    {
     "name": "stderr",
     "output_type": "stream",
     "text": [
      "[nltk_data] Downloading package stopwords to\n",
      "[nltk_data]     C:\\Users\\zhang\\AppData\\Roaming\\nltk_data...\n",
      "[nltk_data]   Package stopwords is already up-to-date!\n"
     ]
    },
    {
     "data": {
      "text/plain": [
       "True"
      ]
     },
     "execution_count": 2,
     "metadata": {},
     "output_type": "execute_result"
    }
   ],
   "source": [
    "nltk.download('stopwords')"
   ]
  },
  {
   "cell_type": "code",
   "execution_count": 3,
   "id": "c83cb73c-809e-444a-a43f-4d780e2a12ed",
   "metadata": {},
   "outputs": [
    {
     "name": "stderr",
     "output_type": "stream",
     "text": [
      "[nltk_data] Downloading package punkt to\n",
      "[nltk_data]     C:\\Users\\zhang\\AppData\\Roaming\\nltk_data...\n",
      "[nltk_data]   Package punkt is already up-to-date!\n"
     ]
    },
    {
     "data": {
      "text/plain": [
       "True"
      ]
     },
     "execution_count": 3,
     "metadata": {},
     "output_type": "execute_result"
    }
   ],
   "source": [
    "nltk.download('punkt')"
   ]
  },
  {
   "cell_type": "code",
   "execution_count": 4,
   "id": "838f8dd1-5f76-4082-bbdf-04b1dc4e6bb5",
   "metadata": {},
   "outputs": [],
   "source": [
    "#read data\n",
    "ldata = pd.read_csv('_large_data2.csv')"
   ]
  },
  {
   "cell_type": "code",
   "execution_count": 5,
   "id": "b23731a2-2526-45dc-b4da-d78ef21e6e61",
   "metadata": {},
   "outputs": [],
   "source": [
    "ldata['index No.'] = range(len(ldata))"
   ]
  },
  {
   "cell_type": "code",
   "execution_count": 6,
   "id": "a790b3ba-aae7-4e72-95f9-d7b0ea113791",
   "metadata": {},
   "outputs": [],
   "source": [
    "# Combine 'index No.' and 'job_name' columns to create the combined index column\n",
    "ldata['combined_index'] = [f\"{index}_{name}\" for name, index in zip(ldata['job_name'], ldata['index No.'])]"
   ]
  },
  {
   "cell_type": "code",
   "execution_count": 7,
   "id": "b9fcf6ff-6686-4f47-a40f-c7762acf2e83",
   "metadata": {},
   "outputs": [],
   "source": [
    "#filter data - Use job descriptions using engligh only:\n",
    "en_prob_mask = ldata['en_prob'] >= 0.9\n",
    "ldata = ldata[en_prob_mask]"
   ]
  },
  {
   "cell_type": "code",
   "execution_count": 8,
   "id": "1f110632-3aed-428c-826a-f7a963d6ed8f",
   "metadata": {},
   "outputs": [
    {
     "data": {
      "text/plain": [
       "119127"
      ]
     },
     "execution_count": 8,
     "metadata": {},
     "output_type": "execute_result"
    }
   ],
   "source": [
    "# data scientist jobs are included 4x the amount. Only keeping 1/4 of them\n",
    "less_ds_mask = ~((ldata['job_name'] == \"Data Scientist\") & (ldata['job_index'] > 25))\n",
    "ldata = ldata[less_ds_mask]\n",
    "ldata.shape[0]"
   ]
  },
  {
   "cell_type": "code",
   "execution_count": 32,
   "id": "c3e6c007-73fe-4067-8cb0-8559a7f91404",
   "metadata": {},
   "outputs": [
    {
     "data": {
      "text/html": [
       "<div>\n",
       "<style scoped>\n",
       "    .dataframe tbody tr th:only-of-type {\n",
       "        vertical-align: middle;\n",
       "    }\n",
       "\n",
       "    .dataframe tbody tr th {\n",
       "        vertical-align: top;\n",
       "    }\n",
       "\n",
       "    .dataframe thead th {\n",
       "        text-align: right;\n",
       "    }\n",
       "</style>\n",
       "<table border=\"1\" class=\"dataframe\">\n",
       "  <thead>\n",
       "    <tr style=\"text-align: right;\">\n",
       "      <th></th>\n",
       "      <th>index</th>\n",
       "      <th>job_name</th>\n",
       "      <th>job_index</th>\n",
       "      <th>description</th>\n",
       "      <th>extracted_text</th>\n",
       "      <th>tokenized_text</th>\n",
       "      <th>en_prob</th>\n",
       "      <th>index No.</th>\n",
       "      <th>combined_index</th>\n",
       "      <th>clean_tokenized_text</th>\n",
       "    </tr>\n",
       "  </thead>\n",
       "  <tbody>\n",
       "    <tr>\n",
       "      <th>0</th>\n",
       "      <td>0</td>\n",
       "      <td>Accountant</td>\n",
       "      <td>0</td>\n",
       "      <td>&lt;div class=\"jobsearch-jobDescriptionText\" id=\"...</td>\n",
       "      <td>sfd professional corporation is a small but ex...</td>\n",
       "      <td>['sfd', 'professional', 'corporation', 'is', '...</td>\n",
       "      <td>1.0</td>\n",
       "      <td>0</td>\n",
       "      <td>0_Accountant</td>\n",
       "      <td>sfd professional corporation small expanding a...</td>\n",
       "    </tr>\n",
       "    <tr>\n",
       "      <th>1</th>\n",
       "      <td>1</td>\n",
       "      <td>Accountant</td>\n",
       "      <td>1</td>\n",
       "      <td>&lt;div class=\"jobsearch-jobDescriptionText\" id=\"...</td>\n",
       "      <td>job no: 512135 brand: flight centre travel gro...</td>\n",
       "      <td>['job', 'no', 'brand', 'flight', 'centre', 'tr...</td>\n",
       "      <td>1.0</td>\n",
       "      <td>1</td>\n",
       "      <td>1_Accountant</td>\n",
       "      <td>job brand flight centre travel group work type...</td>\n",
       "    </tr>\n",
       "    <tr>\n",
       "      <th>2</th>\n",
       "      <td>2</td>\n",
       "      <td>Accountant</td>\n",
       "      <td>2</td>\n",
       "      <td>&lt;div class=\"jobsearch-jobDescriptionText\" id=\"...</td>\n",
       "      <td>the future you want is within reach. at pcl, y...</td>\n",
       "      <td>['future', 'you', 'want', 'is', 'within', 'rea...</td>\n",
       "      <td>1.0</td>\n",
       "      <td>2</td>\n",
       "      <td>2_Accountant</td>\n",
       "      <td>future want within reach pcl personal professi...</td>\n",
       "    </tr>\n",
       "    <tr>\n",
       "      <th>3</th>\n",
       "      <td>3</td>\n",
       "      <td>Accountant</td>\n",
       "      <td>3</td>\n",
       "      <td>&lt;div class=\"jobsearch-jobDescriptionText\" id=\"...</td>\n",
       "      <td>junior accountant an enthusiastic and motivate...</td>\n",
       "      <td>['junior', 'accountant', 'an', 'enthusiastic',...</td>\n",
       "      <td>1.0</td>\n",
       "      <td>3</td>\n",
       "      <td>3_Accountant</td>\n",
       "      <td>junior accountant enthusiastic motivated indiv...</td>\n",
       "    </tr>\n",
       "    <tr>\n",
       "      <th>4</th>\n",
       "      <td>4</td>\n",
       "      <td>Accountant</td>\n",
       "      <td>4</td>\n",
       "      <td>&lt;div class=\"jobsearch-jobDescriptionText\" id=\"...</td>\n",
       "      <td>az accounting firm is a professional cpa firm ...</td>\n",
       "      <td>['az', 'accounting', 'firm', 'is', 'profession...</td>\n",
       "      <td>1.0</td>\n",
       "      <td>4</td>\n",
       "      <td>4_Accountant</td>\n",
       "      <td>az accounting firm professional cpa firm offer...</td>\n",
       "    </tr>\n",
       "  </tbody>\n",
       "</table>\n",
       "</div>"
      ],
      "text/plain": [
       "   index    job_name  job_index  \\\n",
       "0      0  Accountant          0   \n",
       "1      1  Accountant          1   \n",
       "2      2  Accountant          2   \n",
       "3      3  Accountant          3   \n",
       "4      4  Accountant          4   \n",
       "\n",
       "                                         description  \\\n",
       "0  <div class=\"jobsearch-jobDescriptionText\" id=\"...   \n",
       "1  <div class=\"jobsearch-jobDescriptionText\" id=\"...   \n",
       "2  <div class=\"jobsearch-jobDescriptionText\" id=\"...   \n",
       "3  <div class=\"jobsearch-jobDescriptionText\" id=\"...   \n",
       "4  <div class=\"jobsearch-jobDescriptionText\" id=\"...   \n",
       "\n",
       "                                      extracted_text  \\\n",
       "0  sfd professional corporation is a small but ex...   \n",
       "1  job no: 512135 brand: flight centre travel gro...   \n",
       "2  the future you want is within reach. at pcl, y...   \n",
       "3  junior accountant an enthusiastic and motivate...   \n",
       "4  az accounting firm is a professional cpa firm ...   \n",
       "\n",
       "                                      tokenized_text  en_prob  index No.  \\\n",
       "0  ['sfd', 'professional', 'corporation', 'is', '...      1.0          0   \n",
       "1  ['job', 'no', 'brand', 'flight', 'centre', 'tr...      1.0          1   \n",
       "2  ['future', 'you', 'want', 'is', 'within', 'rea...      1.0          2   \n",
       "3  ['junior', 'accountant', 'an', 'enthusiastic',...      1.0          3   \n",
       "4  ['az', 'accounting', 'firm', 'is', 'profession...      1.0          4   \n",
       "\n",
       "  combined_index                               clean_tokenized_text  \n",
       "0   0_Accountant  sfd professional corporation small expanding a...  \n",
       "1   1_Accountant  job brand flight centre travel group work type...  \n",
       "2   2_Accountant  future want within reach pcl personal professi...  \n",
       "3   3_Accountant  junior accountant enthusiastic motivated indiv...  \n",
       "4   4_Accountant  az accounting firm professional cpa firm offer...  "
      ]
     },
     "execution_count": 32,
     "metadata": {},
     "output_type": "execute_result"
    }
   ],
   "source": [
    "ldata.head()"
   ]
  },
  {
   "cell_type": "code",
   "execution_count": 9,
   "id": "c9e433ce-e317-492c-9dc4-8c68983e611a",
   "metadata": {},
   "outputs": [
    {
     "data": {
      "text/plain": [
       "job_name\n",
       "Administrator             2454\n",
       "Administration Manager    2451\n",
       "Accountant                2432\n",
       "Administration Staff      2355\n",
       "Accounts Manager          2348\n",
       "                          ... \n",
       "Homeopath                   68\n",
       "Reprographic Assistant      60\n",
       "Maths Teacher               56\n",
       "Cartographer                55\n",
       "Horse Dealer                55\n",
       "Name: count, Length: 162, dtype: int64"
      ]
     },
     "execution_count": 9,
     "metadata": {},
     "output_type": "execute_result"
    }
   ],
   "source": [
    "# Only use jobs with 50+ postings\n",
    "value_counts = ldata['job_name'].value_counts()\n",
    "\n",
    "jobs_50_count = value_counts[value_counts > 50].index\n",
    "jobs_mask = ldata['job_name'].isin(list(jobs_50_count))\n",
    "\n",
    "ldata = ldata[jobs_mask]\n",
    "ldata['job_name'].value_counts()"
   ]
  },
  {
   "cell_type": "code",
   "execution_count": 10,
   "id": "e7179cd0-f380-49a7-9332-9b5c47d27c1f",
   "metadata": {},
   "outputs": [],
   "source": [
    "# Load NLTK stopwords\n",
    "stop_words = set(stopwords.words('english'))\n",
    "#remove words such as is, to ...\n",
    "additional_stop_words = {'is', 'to', 'with', 'and', 'for', 'in', 'on', 'of', 'are', 'we', 'you','apply','resume','experience','etc.','a','an'}"
   ]
  },
  {
   "cell_type": "code",
   "execution_count": 11,
   "id": "2c1378ee-0873-41fe-99fc-df5df66eb182",
   "metadata": {},
   "outputs": [],
   "source": [
    "def preprocess_text(text):\n",
    "    # Tokenize the text\n",
    "    tokens = re.findall(r'\\b\\w+\\b', text.lower())\n",
    "    # Remove stop words and additional stop words\n",
    "    tokens = [token for token in tokens if token not in stop_words and token not in additional_stop_words]\n",
    "    # Join tokens back into a string\n",
    "    return ' '.join(tokens)"
   ]
  },
  {
   "cell_type": "code",
   "execution_count": 12,
   "id": "83296b5d-b38e-4e4f-9a7e-b6625b2e9975",
   "metadata": {},
   "outputs": [],
   "source": [
    "# Add a new column with tokenized text but with filler words removed\n",
    "ldata['clean_tokenized_text'] = ldata['tokenized_text'].apply(preprocess_text)"
   ]
  },
  {
   "cell_type": "code",
   "execution_count": 13,
   "id": "a28e1ddf-e4ec-4b4e-9b05-808aa88a66b0",
   "metadata": {},
   "outputs": [],
   "source": [
    "# Create TF-IDF vectorizer\n",
    "vectorizer = TfidfVectorizer()\n",
    "\n",
    "# Fit and transform the text data\n",
    "tfidf_matrix = vectorizer.fit_transform(ldata['clean_tokenized_text'])"
   ]
  },
  {
   "cell_type": "code",
   "execution_count": 14,
   "id": "a02a168d-62ff-4af2-833e-1237acb06e4c",
   "metadata": {},
   "outputs": [],
   "source": [
    "def find_similar_jobs(input_description, df, vectorizer, top_n=15):\n",
    "    # Preprocess the input job description\n",
    "    input_description_update = input_description.replace('\\n', ' ')\n",
    "    clean_text = preprocess_text(input_description_update)\n",
    "    \n",
    "    # Vectorize the input job description summary\n",
    "    input_vector = vectorizer.transform([clean_text])\n",
    "    \n",
    "    # Compute cosine similarity with original job descriptions' summaries\n",
    "    similarities = cosine_similarity(input_vector, tfidf_matrix)[0]\n",
    "    \n",
    "    # Get indices of top N similar job descriptions\n",
    "    top_indices = similarities.argsort()[-top_n:][::-1]\n",
    "    \n",
    "    # Retrieve top N similar job descriptions from original database\n",
    "    similar_jobs = df.iloc[top_indices][['index','job_name', 'clean_tokenized_text', 'extracted_text']]\n",
    "    \n",
    "    # Add similarity score to the DataFrame\n",
    "    similar_jobs['similarity_score'] = similarities[top_indices]\n",
    "    \n",
    "    return similar_jobs"
   ]
  },
  {
   "cell_type": "code",
   "execution_count": 31,
   "id": "ffd23770-a1f6-440e-a8ce-7520933f0d04",
   "metadata": {},
   "outputs": [
    {
     "name": "stdout",
     "output_type": "stream",
     "text": [
      "         index            job_name  \\\n",
      "32183    32183               Agent   \n",
      "26582    26582   Advertising Agent   \n",
      "105023  105023          Roadworker   \n",
      "6861      6861    Accounts Manager   \n",
      "9437      9437      Accounts Staff   \n",
      "2571      2571  Accounts Assistant   \n",
      "9180      9180      Accounts Staff   \n",
      "26643    26643   Advertising Agent   \n",
      "104958  104958          Roadworker   \n",
      "26894    26894   Advertising Agent   \n",
      "9133      9133      Accounts Staff   \n",
      "26604    26604   Advertising Agent   \n",
      "9204      9204      Accounts Staff   \n",
      "99597    99597     Revenue Officer   \n",
      "9444      9444      Accounts Staff   \n",
      "\n",
      "                                     clean_tokenized_text  \\\n",
      "32183   partner saas company security industry short h...   \n",
      "26582   partner saas company security industry short h...   \n",
      "105023  position summary new logo sales account execut...   \n",
      "6861    position summary new logo sales account execut...   \n",
      "9437    position summary new logo sales account execut...   \n",
      "2571    position summary new logo sales account execut...   \n",
      "9180    strategic account executive partnerships saas ...   \n",
      "26643   strategic account executive partnerships saas ...   \n",
      "104958  job brief sales director job description looki...   \n",
      "26894   koda brands like work hard take massive action...   \n",
      "9133    koda brands like work hard take massive action...   \n",
      "26604   pronavigator pronavigator insurance technology...   \n",
      "9204    pronavigator pronavigator insurance technology...   \n",
      "99597   cold calling specialist sales development repr...   \n",
      "9444    job overview plan hiring professional skilled ...   \n",
      "\n",
      "                                           extracted_text  similarity_score  \n",
      "32183   our partner is a saas  company in the security...          0.321128  \n",
      "26582   our partner is a saas  company in the security...          0.321128  \n",
      "105023  position summary: the new logo sales account e...          0.320149  \n",
      "6861    position summary: the new logo sales account e...          0.320149  \n",
      "9437    position summary: the new logo sales account e...          0.320149  \n",
      "2571    position summary: the new logo sales account e...          0.320149  \n",
      "9180    strategic account executive - partnerships (sa...          0.302828  \n",
      "26643   strategic account executive - partnerships (sa...          0.302828  \n",
      "104958  job brief: responsibilities: sales director jo...          0.302047  \n",
      "26894   about koda brands do you like to work hard, ta...          0.297687  \n",
      "9133    about koda brands do you like to work hard, ta...          0.297687  \n",
      "26604   who is pronavigator? pronavigator is a  insura...          0.297512  \n",
      "9204    who is pronavigator? pronavigator is a  insura...          0.297512  \n",
      "99597   cold calling specialist / sales development re...          0.293997  \n",
      "9444    job overview we plan on hiring a professional ...          0.293532  \n"
     ]
    }
   ],
   "source": [
    "# Test\n",
    "#input_description = \"An Accountant, or Senior Accounting Professional, is responsible for performing complex accounting needs for their employer. Their duties include assuming a leadership role to guide accounting personnel in daily tasks, reviewing financial data to make forecasting decisions and communicating with company Executives about financial strategies\"\n",
    "#input_description = \"\"\"Serve as lead data strategist to identify and \n",
    "#integrate new datasets that can be leveraged through our product capabilities, \n",
    "#and work closely with the engineering team in the development of data products Execute analytical experiments to help solve problems across various domains and industries Identify relevant data sources and sets to mine for client business needs, and collect large structured and unstructured datasets and variables Devise and utilize algorithms and models to mine big-data stores; perform data and error analysis to improve models; clean and validate data for uniformity and accuracy Analyze data for trends and patterns, and interpret data with clear objectives in mind Implement analytical models in production by collaborating with software developers and machine-learning engineers\"\"\"\n",
    "#input_description = \"\"\"Generate Leads: Proactively identify and pursue potential clients through various channels such as cold calling, email campaigns, networking events, and social media outreach.\n",
    "\n",
    "#Qualify Prospects: Assess potential clients' needs, budgets, timelines, and decision-making processes to determine their suitability as qualified leads.\n",
    "\n",
    "#Conduct Product Demonstrations: Present the features and benefits of our SAAS solutions to potential clients through personalized demos, webinars, and presentations.\n",
    "\n",
    "#Build Relationships: Cultivate strong relationships with leads and existing clients to understand their pain points, provide tailored solutions, and maintain long-term partnerships.\n",
    "\n",
    "#Handle Objections: Address any concerns or objections raised by prospects regarding our SAAS offerings, and effectively communicate the value proposition to overcome hesitations.\n",
    "\n",
    "#Negotiate Contracts: Collaborate with clients to negotiate pricing, terms, and contracts, ensuring a mutually beneficial agreement that aligns with both their needs and our company's goals.\n",
    "\n",
    "#Track Sales Pipeline: Maintain accurate records of all sales activities, including leads, opportunities, communications, and deals, using CRM software to track progress and forecast future sales.\n",
    "\n",
    "#Stay Updated: Stay abreast of industry trends, competitive offerings, and market developments to effectively position our SAAS solutions and maintain a competitive edge.\n",
    "\n",
    "#Collaborate with Team: Work closely with marketing, product development, and customer success teams to share insights, gather feedback, and ensure a cohesive approach to client acquisition and retention.\n",
    "\n",
    "#Achieve Sales Targets: Meet or exceed monthly, quarterly, and annual sales targets by effectively managing time, resources, and priorities to drive revenue growth for the company.\n",
    "\n",
    "#Provide Feedback: Gather feedback from clients regarding product satisfaction, user experience, and feature requests to contribute to ongoing product enhancements and improvements.\n",
    "\n",
    "#Continuous Learning: Continuously improve sales skills and product knowledge through training sessions, workshops, and self-study to enhance performance\"\"\"\n",
    "#input_description = \"\"\"I want to be an actor\"\"\"\n",
    "input_description = \"\"\"Generate Leads: Proactively identify and pursue potential clients through various channels such as cold calling, email campaigns, networking events, and social media outreach.\n",
    " \n",
    "Qualify Prospects: Assess potential clients' needs, budgets, timelines, and decision-making processes to determine their suitability as qualified leads.\n",
    " \n",
    "Conduct Product Demonstrations: Present the features and benefits of our SAAS solutions to potential clients through personalized demos, webinars, and presentations.\n",
    " \n",
    "Build Relationships: Cultivate strong relationships with leads and existing clients to understand their pain points, provide tailored solutions, and maintain long-term partnerships.\n",
    " \n",
    "Handle Objections: Address any concerns or objections raised by prospects regarding our SAAS offerings, and effectively communicate the value proposition to overcome hesitations.\n",
    " \n",
    "Negotiate Contracts: Collaborate with clients to negotiate pricing, terms, and contracts, ensuring a mutually beneficial agreement that aligns with both their needs and our company's goals.\n",
    " \n",
    "Track Sales Pipeline: Maintain accurate records of all sales activities, including leads, opportunities, communications, and deals, using CRM software to track progress and forecast future sales.\n",
    " \n",
    "Stay Updated: Stay abreast of industry trends, competitive offerings, and market developments to effectively position our SAAS solutions and maintain a competitive edge.\n",
    " \n",
    "Collaborate with Team: Work closely with marketing, product development, and customer success teams to share insights, gather feedback, and ensure a cohesive approach to client acquisition and retention.\n",
    " \n",
    "Achieve Sales Targets: Meet or exceed monthly, quarterly, and annual sales targets by effectively managing time, resources, and priorities to drive revenue growth for the company.\n",
    " \n",
    "Provide Feedback: Gather feedback from clients regarding product satisfaction, user experience, and feature requests to contribute to ongoing product enhancements and improvements.\n",
    " \n",
    "Continuous Learning: Continuously improve sales skills and product knowledge through training sessions, workshops, and self-study to enhance performance and adapt to evolving market dynamics.\"\"\"\n",
    "similar_jobs = find_similar_jobs(input_description, ldata, vectorizer)\n",
    "print(similar_jobs)"
   ]
  },
  {
   "cell_type": "code",
   "execution_count": 30,
   "id": "829dccc5-4290-4ce6-b8ce-120c80ccff88",
   "metadata": {},
   "outputs": [
    {
     "name": "stdout",
     "output_type": "stream",
     "text": [
      "summary: provide professional assistance to internal and external customers having hardware- and  problems with their supported desktop, laptop or peripherals. able to resolve local area networking issues to ensure connectivity to the corporate network, and work with the infrastructure and messaging teams as necessary to resolve incidents. support is provided in a timely manner in accordance to published slas while maintaining a high level of customer satisfactions. position duties and responsibilities provide  technical support for supported desktops, laptops, and peripherals. this includes the following activities: maintaining standard software configurations, including troubleshooting, loading and configuring software images, supported applications and drivers may participate in it projects installing, supporting and troubleshooting approved desktop software onsite & via sccm performing planned installs, maintenance, moves, adds and changes provide support services to employees with technical problems issues involving desktop, laptops, mobile devices or network services from local personnel or from employees using network remote access (vpn) provides timely resolution of problems or escalation on behalf of the customers to appropriate technical personnel provide feedback and make recommendations to appropriate teams for creation and maintenance of standard images demonstrates good judgment in selecting methods and techniques for obtaining solutions troubleshooting and resolving technical incidents including network connectivity issues ability to work on call after hours as required communicate effectively with multiple customers and  able to communicate technical information to both technical and  personnel providing case status updates to management and  providing phone support and diagnostics to remote customers, as well as onsite desktop support participating in training programs designed to educate customers about basic and specialized applications escalate unresolved issues to management promptly. identify potential  issues and escalate accordingly provide feedback and recommendations, and create / update kba (knowledge based articles) qualifications ability to work independently and take ownership strong technical and analytical skills required intermediate knowledge of supported microsoft windows operating systems- intermediate knowledge of supported microsoft windows 10 intermediate experience with active directory administration intermediate knowledge of installation, configuration, use and troubleshooting techniques of supported versions of microsoft office 2016 strong interpersonal skills in dealing with a wide range of customers with varying computer abilities experience troubleshooting local area network diverse lynx llc is an equal employment opportunity employer. all qualified applicants will receive due consideration for employment without any discrimination. all applicants will be evaluated solely on the basis of their ability, competence and their proven capability to perform the functions outlined in the corresponding role. we promote and support a diverse workforce across all levels in the company.\n"
     ]
    }
   ],
   "source": [
    "print(ldata.loc[121274, 'extracted_text'])"
   ]
  },
  {
   "cell_type": "code",
   "execution_count": 16,
   "id": "3ccf6269-3220-4d0b-88c4-3b2f8cfe81dc",
   "metadata": {},
   "outputs": [],
   "source": [
    "# Function to compute cosine similarity for each group\n",
    "def compute_group_similarity(group):\n",
    "    # Set parameters for TfidfVectorizer\n",
    "    max_features = 200  # Limit the vocabulary size\n",
    "\n",
    "    # Create TF-IDF vectorizer\n",
    "    vectorizer = TfidfVectorizer(max_features=max_features)\n",
    "\n",
    "    # Fit and transform the text data\n",
    "    tfidf_matrix_group = vectorizer.fit_transform(group['clean_tokenized_text'])\n",
    "\n",
    "    # Convert to sparse matrix if not already sparse\n",
    "    if not isinstance(tfidf_matrix_group, csr_matrix):\n",
    "        tfidf_matrix_group = csr_matrix(tfidf_matrix_group)\n",
    "\n",
    "    # Compute cosine similarity\n",
    "    similarity_matrix_group = cosine_similarity(tfidf_matrix_group)\n",
    "\n",
    "    return similarity_matrix_group"
   ]
  },
  {
   "cell_type": "code",
   "execution_count": 17,
   "id": "720fcd71-c820-49b9-8aa8-b65daaf5fb3f",
   "metadata": {},
   "outputs": [],
   "source": [
    "# Group the dataset by 'job_name'\n",
    "grouped = ldata.groupby('job_name')\n",
    "\n",
    "# Directory to save the CSV files\n",
    "output_dir = \"individual_matrices\"\n",
    "\n",
    "# Create the directory if it doesn't exist\n",
    "os.makedirs(output_dir, exist_ok=True)\n",
    "\n",
    "# Loop over each group\n",
    "for name, group in grouped:\n",
    "    # Compute cosine similarity for the group\n",
    "    similarity_matrix_group = compute_group_similarity(group)\n",
    "    \n",
    "    # Create DataFrame for the group with combined_index as index and columns\n",
    "    group_df = pd.DataFrame(similarity_matrix_group, columns=group['combined_index'], index=group['combined_index'])\n",
    "    \n",
    "    # Save the DataFrame as a CSV file\n",
    "    output_file = os.path.join(output_dir, f\"{name}.csv\")\n",
    "    group_df.to_csv(output_file)"
   ]
  },
  {
   "cell_type": "code",
   "execution_count": null,
   "id": "3f2f83af-399a-4af2-af78-ad7c1db9234f",
   "metadata": {},
   "outputs": [],
   "source": [
    "\"\"\"#Code to directly combine data --- did not work due to insufficient memory\n",
    "# Group the dataset by 'job_name'\n",
    "grouped = ldata.groupby('job_name')\n",
    "\n",
    "# List to store DataFrames for each group\n",
    "group_dfs = []\n",
    "\n",
    "# Loop over each group\n",
    "for name, group in grouped:\n",
    "    # Compute cosine similarity for the group\n",
    "    similarity_matrix_group = compute_group_similarity(group)\n",
    "    \n",
    "    # Create DataFrame for the group with combined_index as index and columns\n",
    "    group_df = pd.DataFrame(similarity_matrix_group, columns=group['combined_index'], index=group['combined_index'])\n",
    "    \n",
    "    # Add the DataFrame to the list\n",
    "    group_dfs.append(group_df)\n",
    "\n",
    "# Concatenate DataFrames along the rows to combine all groups\n",
    "combined_similarity_df = pd.concat(group_dfs)\n",
    "\n",
    "# Reset the index of the combined DataFrame\n",
    "combined_similarity_df.reset_index(drop=True, inplace=True)"
   ]
  },
  {
   "cell_type": "code",
   "execution_count": null,
   "id": "fa4f52a0-7a67-42e5-b27d-56cf8ae5ff31",
   "metadata": {},
   "outputs": [],
   "source": [
    "\"\"\"#To generate whole consine similarity matrix --- did not work due to insufficient memory\n",
    "# Set parameters for TfidfVectorizer\n",
    "max_features = 10000  # Limit the vocabulary size\n",
    "\n",
    "# Create TF-IDF vectorizer\n",
    "vectorizer = TfidfVectorizer(max_features=max_features)\n",
    "\n",
    "# Fit and transform the text data\n",
    "tfidf_matrix = vectorizer.fit_transform(ldata['clean_tokenized_text'])\n",
    "\n",
    "# Convert to sparse matrix if not already sparse\n",
    "if not isinstance(tfidf_matrix, np.ndarray):\n",
    "    tfidf_matrix = tfidf_matrix.toarray()\n",
    "\n",
    "# Compute cosine similarity using batch processing\n",
    "batch_size = 10000\n",
    "n_samples = tfidf_matrix.shape[0]\n",
    "similarity_matrix = np.zeros((n_samples, n_samples))\n",
    "\n",
    "for i in range(0, n_samples, batch_size):\n",
    "    start = i\n",
    "    end = min(i + batch_size, n_samples)\n",
    "    similarity_matrix[start:end] = cosine_similarity(tfidf_matrix[start:end], tfidf_matrix)\n",
    "\n",
    "# Convert similarity matrix to DataFrame for inspection\n",
    "similarity_df = pd.DataFrame(similarity_matrix, columns=mdata['job_name'], index=mdata['job_name'])"
   ]
  }
 ],
 "metadata": {
  "kernelspec": {
   "display_name": "Python 3 (ipykernel)",
   "language": "python",
   "name": "python3"
  },
  "language_info": {
   "codemirror_mode": {
    "name": "ipython",
    "version": 3
   },
   "file_extension": ".py",
   "mimetype": "text/x-python",
   "name": "python",
   "nbconvert_exporter": "python",
   "pygments_lexer": "ipython3",
   "version": "3.12.2"
  }
 },
 "nbformat": 4,
 "nbformat_minor": 5
}
